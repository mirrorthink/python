{
 "cells": [
  {
   "cell_type": "code",
   "execution_count": 3,
   "metadata": {
    "scrolled": true
   },
   "outputs": [
    {
     "name": "stderr",
     "output_type": "stream",
     "text": [
      "C:\\Users\\jingsi.huang\\.conda\\envs\\3.6.8\\lib\\site-packages\\tensorflow\\python\\framework\\dtypes.py:516: FutureWarning: Passing (type, 1) or '1type' as a synonym of type is deprecated; in a future version of numpy, it will be understood as (type, (1,)) / '(1,)type'.\n",
      "  _np_qint8 = np.dtype([(\"qint8\", np.int8, 1)])\n",
      "C:\\Users\\jingsi.huang\\.conda\\envs\\3.6.8\\lib\\site-packages\\tensorflow\\python\\framework\\dtypes.py:517: FutureWarning: Passing (type, 1) or '1type' as a synonym of type is deprecated; in a future version of numpy, it will be understood as (type, (1,)) / '(1,)type'.\n",
      "  _np_quint8 = np.dtype([(\"quint8\", np.uint8, 1)])\n",
      "C:\\Users\\jingsi.huang\\.conda\\envs\\3.6.8\\lib\\site-packages\\tensorflow\\python\\framework\\dtypes.py:518: FutureWarning: Passing (type, 1) or '1type' as a synonym of type is deprecated; in a future version of numpy, it will be understood as (type, (1,)) / '(1,)type'.\n",
      "  _np_qint16 = np.dtype([(\"qint16\", np.int16, 1)])\n",
      "C:\\Users\\jingsi.huang\\.conda\\envs\\3.6.8\\lib\\site-packages\\tensorflow\\python\\framework\\dtypes.py:519: FutureWarning: Passing (type, 1) or '1type' as a synonym of type is deprecated; in a future version of numpy, it will be understood as (type, (1,)) / '(1,)type'.\n",
      "  _np_quint16 = np.dtype([(\"quint16\", np.uint16, 1)])\n",
      "C:\\Users\\jingsi.huang\\.conda\\envs\\3.6.8\\lib\\site-packages\\tensorflow\\python\\framework\\dtypes.py:520: FutureWarning: Passing (type, 1) or '1type' as a synonym of type is deprecated; in a future version of numpy, it will be understood as (type, (1,)) / '(1,)type'.\n",
      "  _np_qint32 = np.dtype([(\"qint32\", np.int32, 1)])\n",
      "C:\\Users\\jingsi.huang\\.conda\\envs\\3.6.8\\lib\\site-packages\\tensorflow\\python\\framework\\dtypes.py:525: FutureWarning: Passing (type, 1) or '1type' as a synonym of type is deprecated; in a future version of numpy, it will be understood as (type, (1,)) / '(1,)type'.\n",
      "  np_resource = np.dtype([(\"resource\", np.ubyte, 1)])\n"
     ]
    },
    {
     "name": "stdout",
     "output_type": "stream",
     "text": [
      "2.0.0-beta0\n"
     ]
    },
    {
     "name": "stderr",
     "output_type": "stream",
     "text": [
      "C:\\Users\\jingsi.huang\\.conda\\envs\\3.6.8\\lib\\site-packages\\tensorboard\\compat\\tensorflow_stub\\dtypes.py:541: FutureWarning: Passing (type, 1) or '1type' as a synonym of type is deprecated; in a future version of numpy, it will be understood as (type, (1,)) / '(1,)type'.\n",
      "  _np_qint8 = np.dtype([(\"qint8\", np.int8, 1)])\n",
      "C:\\Users\\jingsi.huang\\.conda\\envs\\3.6.8\\lib\\site-packages\\tensorboard\\compat\\tensorflow_stub\\dtypes.py:542: FutureWarning: Passing (type, 1) or '1type' as a synonym of type is deprecated; in a future version of numpy, it will be understood as (type, (1,)) / '(1,)type'.\n",
      "  _np_quint8 = np.dtype([(\"quint8\", np.uint8, 1)])\n",
      "C:\\Users\\jingsi.huang\\.conda\\envs\\3.6.8\\lib\\site-packages\\tensorboard\\compat\\tensorflow_stub\\dtypes.py:543: FutureWarning: Passing (type, 1) or '1type' as a synonym of type is deprecated; in a future version of numpy, it will be understood as (type, (1,)) / '(1,)type'.\n",
      "  _np_qint16 = np.dtype([(\"qint16\", np.int16, 1)])\n",
      "C:\\Users\\jingsi.huang\\.conda\\envs\\3.6.8\\lib\\site-packages\\tensorboard\\compat\\tensorflow_stub\\dtypes.py:544: FutureWarning: Passing (type, 1) or '1type' as a synonym of type is deprecated; in a future version of numpy, it will be understood as (type, (1,)) / '(1,)type'.\n",
      "  _np_quint16 = np.dtype([(\"quint16\", np.uint16, 1)])\n",
      "C:\\Users\\jingsi.huang\\.conda\\envs\\3.6.8\\lib\\site-packages\\tensorboard\\compat\\tensorflow_stub\\dtypes.py:545: FutureWarning: Passing (type, 1) or '1type' as a synonym of type is deprecated; in a future version of numpy, it will be understood as (type, (1,)) / '(1,)type'.\n",
      "  _np_qint32 = np.dtype([(\"qint32\", np.int32, 1)])\n",
      "C:\\Users\\jingsi.huang\\.conda\\envs\\3.6.8\\lib\\site-packages\\tensorboard\\compat\\tensorflow_stub\\dtypes.py:550: FutureWarning: Passing (type, 1) or '1type' as a synonym of type is deprecated; in a future version of numpy, it will be understood as (type, (1,)) / '(1,)type'.\n",
      "  np_resource = np.dtype([(\"resource\", np.ubyte, 1)])\n"
     ]
    }
   ],
   "source": [
    "from __future__ import absolute_import, division, print_function\n",
    "import tensorflow as tf\n",
    "from tensorflow import keras\n",
    "import pandas as pd\n",
    "import numpy as np\n",
    "\n",
    "print(tf.__version__)"
   ]
  },
  {
   "cell_type": "code",
   "execution_count": 4,
   "metadata": {
    "scrolled": true
   },
   "outputs": [
    {
     "name": "stdout",
     "output_type": "stream",
     "text": [
      "    1日LTV  2日LTV  3日LTV  4日LTV  5日LTV  6日LTV  7日LTV  1日付费率  2日付费率  3日付费率  \\\n",
      "0    3.32   4.93   5.81   6.33   6.57   6.84   6.99   0.10   0.14   0.15   \n",
      "1    2.85   4.83   6.64   7.96   9.13   9.74  10.17   0.05   0.08   0.10   \n",
      "2    4.53   7.77   9.73  11.07  12.47  13.66  14.59   0.07   0.11   0.14   \n",
      "3    6.38  10.29  12.65  14.34  15.57  16.61  17.60   0.22   0.27   0.30   \n",
      "4    2.98   5.31   7.05   8.38   9.36  10.22  10.95   0.04   0.07   0.09   \n",
      "5    4.80   8.65  11.30  13.45  15.55  17.36  19.49   0.07   0.10   0.12   \n",
      "6    3.83   7.56  10.54  12.96  15.11  17.09  19.17   0.07   0.10   0.12   \n",
      "7    4.26   8.42  11.43  14.31  16.68  18.81  20.77   0.12   0.16   0.18   \n",
      "8    4.52   7.93  10.18  11.78  13.10  14.29  15.50   0.09   0.13   0.15   \n",
      "9    4.07   6.33   7.75   8.68   9.46  10.00  10.66   0.10   0.14   0.16   \n",
      "10   1.05   1.73   1.97   2.24   2.44   2.76   2.95   0.05   0.07   0.08   \n",
      "11   0.02   0.02   0.02   0.02   0.02   0.02   0.02   0.00   0.00   0.00   \n",
      "12   3.16   4.72   5.35   5.68   5.88   6.02   6.16   0.09   0.13   0.14   \n",
      "13   5.36   9.37  13.54  16.29  18.98  21.22  23.21   0.10   0.17   0.21   \n",
      "14   3.25   6.31   8.10   9.40  10.49  11.33  11.97   0.04   0.08   0.10   \n",
      "15   8.85  15.94  19.53  22.40  24.00  25.22  26.62   0.15   0.21   0.24   \n",
      "16   0.08   0.16   0.20   0.22   0.25   0.29   0.31   0.00   0.00   0.00   \n",
      "17   1.74   3.00   3.88   4.48   4.94   5.23   5.62   0.05   0.07   0.08   \n",
      "18   9.58  17.03  21.21  24.01  26.48  29.07  30.59   0.14   0.20   0.22   \n",
      "19   0.55   1.04   1.49   1.86   2.23   2.57   2.88   0.01   0.01   0.02   \n",
      "20   5.82  10.17  12.84  14.87  16.43  17.80  19.06   0.10   0.14   0.17   \n",
      "21   3.33   5.77   7.49   8.75   9.73  10.68  11.43   0.17   0.21   0.22   \n",
      "22   0.57   1.07   1.29   1.39   1.58   1.64   1.73   0.02   0.03   0.04   \n",
      "\n",
      "    4日付费率  5日付费率  6日付费率  7日付费率  次日留存率  3日留存率  4日留存率  5日留存率  6日留存率  \n",
      "0    0.16   0.16   0.17   0.17   0.26   0.12   0.08   0.07   0.05  \n",
      "1    0.12   0.13   0.14   0.15   0.23   0.14   0.11   0.09   0.08  \n",
      "2    0.16   0.18   0.20   0.21   0.22   0.14   0.11   0.09   0.08  \n",
      "3    0.32   0.33   0.34   0.35   0.30   0.18   0.14   0.11   0.09  \n",
      "4    0.10   0.10   0.11   0.12   0.29   0.23   0.20   0.18   0.17  \n",
      "5    0.14   0.16   0.17   0.18   0.19   0.12   0.09   0.07   0.07  \n",
      "6    0.13   0.14   0.15   0.16   0.33   0.23   0.19   0.16   0.15  \n",
      "7    0.19   0.21   0.22   0.23   0.29   0.16   0.12   0.10   0.08  \n",
      "8    0.17   0.18   0.19   0.20   0.28   0.15   0.11   0.09   0.07  \n",
      "9    0.17   0.18   0.19   0.19   0.23   0.14   0.10   0.08   0.07  \n",
      "10   0.09   0.09   0.09   0.10   0.25   0.14   0.10   0.08   0.07  \n",
      "11   0.00   0.00   0.00   0.00   0.47   0.21   0.13   0.09   0.11  \n",
      "12   0.15   0.16   0.16   0.16   0.28   0.14   0.10   0.07   0.06  \n",
      "13   0.24   0.27   0.29   0.32   0.31   0.24   0.21   0.19   0.17  \n",
      "14   0.11   0.12   0.13   0.14   0.28   0.18   0.14   0.12   0.10  \n",
      "15   0.26   0.28   0.29   0.31   0.32   0.16   0.11   0.09   0.07  \n",
      "16   0.01   0.01   0.01   0.01   0.61   0.40   0.33   0.25   0.15  \n",
      "17   0.09   0.09   0.10   0.10   0.20   0.12   0.09   0.08   0.06  \n",
      "18   0.24   0.26   0.28   0.29   0.27   0.15   0.11   0.08   0.07  \n",
      "19   0.02   0.02   0.02   0.03   0.54   0.29   0.21   0.17   0.17  \n",
      "20   0.18   0.20   0.21   0.22   0.25   0.14   0.10   0.08   0.07  \n",
      "21   0.23   0.24   0.25   0.25   0.36   0.23   0.17   0.14   0.13  \n",
      "22   0.04   0.04   0.05   0.05   0.19   0.11   0.08   0.07   0.06  \n"
     ]
    }
   ],
   "source": [
    "\n",
    "data_all=pd.read_csv(\"E:/工作/star/周期报告/学习/tensorflow/LTV预测模型/all_game_teamtopAND_allcolun.csv\")\n",
    "#print(data_all)\n",
    "#(train_data, train_labels), (test_data, test_labels) = boston_housing.load_data()\n",
    "# Shuffle the training set\n",
    "#order = np.argsort(np.random.random(train_labels.shape))\n",
    "#前14天所有数据\n",
    "#data=data_all[[\"1日LTV\",\"2日LTV\",\"3日LTV\",\"4日LTV\",\"5日LTV\",\"6日LTV\",\"7日LTV\",\"8日LTV\",\"9日LTV\",\"10日LTV\",\"11日LTV\",\"12日LTV\",\"13日LTV\",\"14日LTV\",\"1日付费率\",\"2日付费率\",\"3日付费率\",\"4日付费率\",\"5日付费率\",\"6日付费率\",\"7日付费率\",\"8日付费率\",\"9日付费率\",\"10日付费率\",\"11日付费率\",\"12日付费率\",\"13日付费率\",\"14日付费率\",\"次日留存率\",\"3日留存率\",\"4日留存率\",\"5日留存率\",\"6日留存率\",\"7日留存率\",\"8日留存率\",\"9日留存率\",\"10日留存率\",\"11日留存率\",\"12日留存率\",\"13日留存率\",\"14日留存率\"]]\n",
    "#前7天所有数据\n",
    "data=data_all[[\"1日LTV\",\"2日LTV\",\"3日LTV\",\"4日LTV\",\"5日LTV\",\"6日LTV\",\"7日LTV\",\"1日付费率\",\"2日付费率\",\"3日付费率\",\"4日付费率\",\"5日付费率\",\"6日付费率\",\"7日付费率\",\"次日留存率\",\"3日留存率\",\"4日留存率\",\"5日留存率\",\"6日留存率\"]]\n",
    "#data=data_all[[\"1日LTV\",\"3日LTV\",\"5日LTV\",\"7日LTV\",\"14日LTV\",\"次日留存率\",\"3日留存率\",\"5日留存率\",\"7日留存率\",\"14日留存率\"]]\n",
    "#data=data_all[[\"1日LTV\",\"2日LTV\",\"3日LTV\",\"4日LTV\",\"5日LTV\",\"6日LTV\",\"7日LTV\"]]\n",
    "#data=data_all[[\"1日LTV\",\"3日LTV\",\"5日LTV\",\"7日LTV\",\"14日LTV\"]]\n",
    "#label=data_all[[\"30日LTV\",\"60日LTV\",\"90日LTV\",\"次日留存率\"]]\n",
    "print(data)\n",
    "train_data = data[:18]\n",
    "test_data = data[18:]\n",
    "train_labels = data_all[\"60日LTV\"][:18]\n",
    "test_labels = data_all[\"60日LTV\"][18:]\n",
    "#print(train_data)"
   ]
  },
  {
   "cell_type": "code",
   "execution_count": 5,
   "metadata": {},
   "outputs": [
    {
     "name": "stdout",
     "output_type": "stream",
     "text": [
      "Training set: (18, 19)\n",
      "Testing set:  (5, 19)\n"
     ]
    }
   ],
   "source": [
    "print(\"Training set: {}\".format(train_data.shape))  # 404 examples, 13 features\n",
    "print(\"Testing set:  {}\".format(test_data.shape))   # 102 examples, 13 features"
   ]
  },
  {
   "cell_type": "code",
   "execution_count": 6,
   "metadata": {},
   "outputs": [
    {
     "name": "stdout",
     "output_type": "stream",
     "text": [
      "0     8.80\n",
      "1    21.00\n",
      "2    28.79\n",
      "3    31.06\n",
      "4    21.78\n",
      "5    43.22\n",
      "6    41.78\n",
      "7    59.92\n",
      "8    46.37\n",
      "9    16.84\n",
      "Name: 60日LTV, dtype: float64\n"
     ]
    }
   ],
   "source": [
    "print(train_labels[0:10])  # Display first 10 entries"
   ]
  },
  {
   "cell_type": "code",
   "execution_count": 7,
   "metadata": {},
   "outputs": [],
   "source": [
    "#标准化特征\n",
    "mean = train_data.mean(axis=1)\n",
    "#print(mean)\n",
    "\n",
    "#std = train_data.std(axis=0)\n",
    "#train_data = (train_data - mean) / std\n",
    "#test_data = (test_data - mean) / std\n",
    "\n",
    "#print(train_data)  # First training sample, normalized\n",
    "\n"
   ]
  },
  {
   "cell_type": "code",
   "execution_count": 8,
   "metadata": {},
   "outputs": [
    {
     "name": "stdout",
     "output_type": "stream",
     "text": [
      "Model: \"sequential\"\n",
      "_________________________________________________________________\n",
      "Layer (type)                 Output Shape              Param #   \n",
      "=================================================================\n",
      "dense (Dense)                (None, 64)                1280      \n",
      "_________________________________________________________________\n",
      "dense_1 (Dense)              (None, 64)                4160      \n",
      "_________________________________________________________________\n",
      "dense_2 (Dense)              (None, 1)                 65        \n",
      "=================================================================\n",
      "Total params: 5,505\n",
      "Trainable params: 5,505\n",
      "Non-trainable params: 0\n",
      "_________________________________________________________________\n"
     ]
    }
   ],
   "source": [
    "#创建模型\n",
    "def build_model():\n",
    "  model = keras.Sequential([\n",
    "    keras.layers.Dense(64, activation=tf.nn.relu,\n",
    "                       input_shape=(train_data.shape[1],)),\n",
    "    keras.layers.Dense(64, activation=tf.nn.relu),\n",
    "    keras.layers.Dense(1)\n",
    "  ])\n",
    "\n",
    "  optimizer = tf.compat.v1.train.RMSPropOptimizer(0.001)\n",
    "\n",
    "  model.compile(loss='mse',\n",
    "                optimizer=optimizer,\n",
    "                metrics=['mae'])\n",
    "  return model\n",
    "\n",
    "model = build_model()\n",
    "model.summary()"
   ]
  },
  {
   "cell_type": "code",
   "execution_count": 9,
   "metadata": {},
   "outputs": [
    {
     "name": "stdout",
     "output_type": "stream",
     "text": [
      "\n",
      "....................................................................................................\n",
      "....................................................................................................\n",
      "....................................................................................................\n",
      "....................................................................................................\n",
      "...................................................................................................."
     ]
    }
   ],
   "source": [
    "#训练模型  对该模型训练 500 个周期，并将训练和验证准确率记录到 history 对象中。\n",
    "# Display training progress by printing a single dot for each completed epoch\n",
    "class PrintDot(keras.callbacks.Callback):\n",
    "  def on_epoch_end(self, epoch, logs):\n",
    "    if epoch % 100 == 0: print('')\n",
    "    print('.', end='')\n",
    "\n",
    "EPOCHS = 500\n",
    "\n",
    "# Store training stats\n",
    "history = model.fit(train_data, train_labels, epochs=EPOCHS,\n",
    "                    validation_split=0.2, verbose=0,\n",
    "                    callbacks=[PrintDot()])\n"
   ]
  },
  {
   "cell_type": "code",
   "execution_count": 10,
   "metadata": {
    "scrolled": false
   },
   "outputs": [],
   "source": [
    "import matplotlib.pyplot as plt\n",
    "\n",
    "def plot_history(history):\n",
    "  plt.figure()\n",
    "  plt.xlabel('Epoch')\n",
    "  plt.ylabel('Mean Abs Error [1000$]')\n",
    "  plt.plot(history.epoch, np.array(history.history['mae']),\n",
    "           label='Train Loss')\n",
    "  plt.plot(history.epoch, np.array(history.history['val_mae']),\n",
    "           label = 'Val loss')\n",
    "  plt.legend()\n",
    "  plt.ylim([0, 20])\n",
    "\n",
    "plot_history(history)"
   ]
  },
  {
   "cell_type": "code",
   "execution_count": 11,
   "metadata": {},
   "outputs": [
    {
     "name": "stdout",
     "output_type": "stream",
     "text": [
      "\n",
      ".................................................."
     ]
    },
    {
     "data": {
      "image/png": "[encoded data removed]",
      "text/plain": [
       "<Figure size 432x288 with 1 Axes>"
      ]
     },
     "metadata": {
      "needs_background": "light"
     },
     "output_type": "display_data"
    }
   ],
   "source": [
    "model = build_model()\n",
    "\n",
    "# The patience parameter is the amount of epochs to check for improvement\n",
    "early_stop = keras.callbacks.EarlyStopping(monitor='val_loss', patience=20)\n",
    "\n",
    "history = model.fit(train_data, train_labels, epochs=EPOCHS,\n",
    "                    validation_split=0.2, verbose=0,\n",
    "                    callbacks=[early_stop, PrintDot()])\n",
    "\n",
    "plot_history(history)"
   ]
  },
  {
   "cell_type": "code",
   "execution_count": 12,
   "metadata": {},
   "outputs": [],
   "source": [
    "[loss, mae] = model.evaluate(test_data, test_labels, verbose=0)\n",
    "\n"
   ]
  },
  {
   "cell_type": "code",
   "execution_count": 16,
   "metadata": {},
   "outputs": [
    {
     "name": "stdout",
     "output_type": "stream",
     "text": [
      "18    54.58\n",
      "19     8.83\n",
      "20    39.70\n",
      "21    21.90\n",
      "22     2.70\n",
      "Name: 60日LTV, dtype: float64\n",
      "    60日LTV\n",
      "18   54.58\n",
      "19    8.83\n",
      "20   39.70\n",
      "21   21.90\n",
      "22    2.70\n",
      "[67.29676   5.845057 41.616325 25.021431  4.323646]\n"
     ]
    },
    {
     "data": {
      "image/png": "[encoded data removed]",
      "text/plain": [
       "<Figure size 432x288 with 1 Axes>"
      ]
     },
     "metadata": {
      "needs_background": "light"
     },
     "output_type": "display_data"
    }
   ],
   "source": [
    "test_predictions = model.predict(test_data).flatten()\n",
    "df=pd.DataFrame(test_labels)\n",
    "print(test_labels)\n",
    "print(df)\n",
    "print(test_predictions)\n",
    "df = pd.DataFrame(data,columns=['Name','Age'])\n",
    "\n",
    "\n",
    "plt.scatter(test_labels, test_predictions)\n",
    "plt.xlabel('True Values')\n",
    "plt.ylabel('Predictions')\n",
    "plt.axis('equal')\n",
    "plt.xlim(plt.xlim())\n",
    "plt.ylim(plt.ylim())\n",
    "_ = plt.plot([-100, 100], [-100, 100])"
   ]
  },
  {
   "cell_type": "code",
   "execution_count": null,
   "metadata": {},
   "outputs": [],
   "source": []
  },
  {
   "cell_type": "code",
   "execution_count": null,
   "metadata": {},
   "outputs": [],
   "source": []
  }
 ],
 "metadata": {
  "kernelspec": {
   "display_name": "Python (py3.8.6)",
   "language": "python",
   "name": "3.8.6"
  },
  "language_info": {
   "codemirror_mode": {
    "name": "ipython",
    "version": 3
   },
   "file_extension": ".py",
   "mimetype": "text/x-python",
   "name": "python",
   "nbconvert_exporter": "python",
   "pygments_lexer": "ipython3",
   "version": "3.6.8"
  }
 },
 "nbformat": 4,
 "nbformat_minor": 2
}
